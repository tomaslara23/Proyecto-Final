{
 "cells": [
  {
   "cell_type": "code",
   "execution_count": null,
   "id": "21fbb0bd",
   "metadata": {},
   "outputs": [],
   "source": [
    "import torch #Redes neuronales\n",
    "import pandas as pd\n",
    "from torchvision.models import resnet50\n",
    "from PIL import Image\n",
    "from torchvision.datasets import ImageFolder #Localizar una carpeta y sus imagenes\n",
    "from torch.utils.data import DataLoader #Genera un \"generador\"\n",
    "from torch.nn import CrossEntropyLoss #Loss function\n",
    "from torch.optim import SGD #Stochastic gradient descent"
   ]
  },
  {
   "cell_type": "code",
   "execution_count": 2,
   "id": "03d38d4d",
   "metadata": {},
   "outputs": [
    {
     "data": {
      "text/plain": [
       "False"
      ]
     },
     "execution_count": 2,
     "metadata": {},
     "output_type": "execute_result"
    }
   ],
   "source": [
    "torch.cuda.is_available()"
   ]
  },
  {
   "cell_type": "code",
   "execution_count": 1,
   "id": "0800c9a4",
   "metadata": {},
   "outputs": [],
   "source": [
    "#torch.cuda.current_device()"
   ]
  },
  {
   "cell_type": "code",
   "execution_count": null,
   "id": "c52087fe",
   "metadata": {},
   "outputs": [
    {
     "ename": "AssertionError",
     "evalue": "Torch not compiled with CUDA enabled",
     "output_type": "error",
     "traceback": [
      "\u001b[31m---------------------------------------------------------------------------\u001b[39m",
      "\u001b[31mAssertionError\u001b[39m                            Traceback (most recent call last)",
      "\u001b[36mCell\u001b[39m\u001b[36m \u001b[39m\u001b[32mIn[4]\u001b[39m\u001b[32m, line 1\u001b[39m\n\u001b[32m----> \u001b[39m\u001b[32m1\u001b[39m \u001b[43mtorch\u001b[49m\u001b[43m.\u001b[49m\u001b[43mcuda\u001b[49m\u001b[43m.\u001b[49m\u001b[43mget_device_name\u001b[49m\u001b[43m(\u001b[49m\u001b[32;43m0\u001b[39;49m\u001b[43m)\u001b[49m\n",
      "\u001b[36mFile \u001b[39m\u001b[32mc:\\Users\\sebas\\AppData\\Local\\Programs\\Python\\Python313\\Lib\\site-packages\\torch\\cuda\\__init__.py:544\u001b[39m, in \u001b[36mget_device_name\u001b[39m\u001b[34m(device)\u001b[39m\n\u001b[32m    532\u001b[39m \u001b[38;5;28;01mdef\u001b[39;00m\u001b[38;5;250m \u001b[39m\u001b[34mget_device_name\u001b[39m(device: Optional[_device_t] = \u001b[38;5;28;01mNone\u001b[39;00m) -> \u001b[38;5;28mstr\u001b[39m:\n\u001b[32m    533\u001b[39m \u001b[38;5;250m    \u001b[39m\u001b[33mr\u001b[39m\u001b[33;03m\"\"\"Get the name of a device.\u001b[39;00m\n\u001b[32m    534\u001b[39m \n\u001b[32m    535\u001b[39m \u001b[33;03m    Args:\u001b[39;00m\n\u001b[32m   (...)\u001b[39m\u001b[32m    542\u001b[39m \u001b[33;03m        str: the name of the device\u001b[39;00m\n\u001b[32m    543\u001b[39m \u001b[33;03m    \"\"\"\u001b[39;00m\n\u001b[32m--> \u001b[39m\u001b[32m544\u001b[39m     \u001b[38;5;28;01mreturn\u001b[39;00m \u001b[43mget_device_properties\u001b[49m\u001b[43m(\u001b[49m\u001b[43mdevice\u001b[49m\u001b[43m)\u001b[49m.name\n",
      "\u001b[36mFile \u001b[39m\u001b[32mc:\\Users\\sebas\\AppData\\Local\\Programs\\Python\\Python313\\Lib\\site-packages\\torch\\cuda\\__init__.py:576\u001b[39m, in \u001b[36mget_device_properties\u001b[39m\u001b[34m(device)\u001b[39m\n\u001b[32m    564\u001b[39m \u001b[38;5;28;01mdef\u001b[39;00m\u001b[38;5;250m \u001b[39m\u001b[34mget_device_properties\u001b[39m(device: Optional[_device_t] = \u001b[38;5;28;01mNone\u001b[39;00m) -> _CudaDeviceProperties:\n\u001b[32m    565\u001b[39m \u001b[38;5;250m    \u001b[39m\u001b[33mr\u001b[39m\u001b[33;03m\"\"\"Get the properties of a device.\u001b[39;00m\n\u001b[32m    566\u001b[39m \n\u001b[32m    567\u001b[39m \u001b[33;03m    Args:\u001b[39;00m\n\u001b[32m   (...)\u001b[39m\u001b[32m    574\u001b[39m \u001b[33;03m        _CudaDeviceProperties: the properties of the device\u001b[39;00m\n\u001b[32m    575\u001b[39m \u001b[33;03m    \"\"\"\u001b[39;00m\n\u001b[32m--> \u001b[39m\u001b[32m576\u001b[39m     \u001b[43m_lazy_init\u001b[49m\u001b[43m(\u001b[49m\u001b[43m)\u001b[49m  \u001b[38;5;66;03m# will define _get_device_properties\u001b[39;00m\n\u001b[32m    577\u001b[39m     device = _get_device_index(device, optional=\u001b[38;5;28;01mTrue\u001b[39;00m)\n\u001b[32m    578\u001b[39m     \u001b[38;5;28;01mif\u001b[39;00m device < \u001b[32m0\u001b[39m \u001b[38;5;129;01mor\u001b[39;00m device >= device_count():\n",
      "\u001b[36mFile \u001b[39m\u001b[32mc:\\Users\\sebas\\AppData\\Local\\Programs\\Python\\Python313\\Lib\\site-packages\\torch\\cuda\\__init__.py:363\u001b[39m, in \u001b[36m_lazy_init\u001b[39m\u001b[34m()\u001b[39m\n\u001b[32m    358\u001b[39m     \u001b[38;5;28;01mraise\u001b[39;00m \u001b[38;5;167;01mRuntimeError\u001b[39;00m(\n\u001b[32m    359\u001b[39m         \u001b[33m\"\u001b[39m\u001b[33mCannot re-initialize CUDA in forked subprocess. To use CUDA with \u001b[39m\u001b[33m\"\u001b[39m\n\u001b[32m    360\u001b[39m         \u001b[33m\"\u001b[39m\u001b[33mmultiprocessing, you must use the \u001b[39m\u001b[33m'\u001b[39m\u001b[33mspawn\u001b[39m\u001b[33m'\u001b[39m\u001b[33m start method\u001b[39m\u001b[33m\"\u001b[39m\n\u001b[32m    361\u001b[39m     )\n\u001b[32m    362\u001b[39m \u001b[38;5;28;01mif\u001b[39;00m \u001b[38;5;129;01mnot\u001b[39;00m \u001b[38;5;28mhasattr\u001b[39m(torch._C, \u001b[33m\"\u001b[39m\u001b[33m_cuda_getDeviceCount\u001b[39m\u001b[33m\"\u001b[39m):\n\u001b[32m--> \u001b[39m\u001b[32m363\u001b[39m     \u001b[38;5;28;01mraise\u001b[39;00m \u001b[38;5;167;01mAssertionError\u001b[39;00m(\u001b[33m\"\u001b[39m\u001b[33mTorch not compiled with CUDA enabled\u001b[39m\u001b[33m\"\u001b[39m)\n\u001b[32m    364\u001b[39m \u001b[38;5;28;01mif\u001b[39;00m _cudart \u001b[38;5;129;01mis\u001b[39;00m \u001b[38;5;28;01mNone\u001b[39;00m:\n\u001b[32m    365\u001b[39m     \u001b[38;5;28;01mraise\u001b[39;00m \u001b[38;5;167;01mAssertionError\u001b[39;00m(\n\u001b[32m    366\u001b[39m         \u001b[33m\"\u001b[39m\u001b[33mlibcudart functions unavailable. It looks like you have a broken build?\u001b[39m\u001b[33m\"\u001b[39m\n\u001b[32m    367\u001b[39m     )\n",
      "\u001b[31mAssertionError\u001b[39m: Torch not compiled with CUDA enabled"
     ]
    }
   ],
   "source": [
    "#torch.cuda.get_device_name(0)"
   ]
  },
  {
   "cell_type": "code",
   "execution_count": 6,
   "id": "693ac9a1",
   "metadata": {},
   "outputs": [],
   "source": [
    "evice = torch.device(\"cpu\")"
   ]
  },
  {
   "cell_type": "code",
   "execution_count": 8,
   "id": "d3249c61",
   "metadata": {},
   "outputs": [
    {
     "data": {
      "image/png": "[encoded data removed]",
      "text/plain": [
       "<PIL.PngImagePlugin.PngImageFile image mode=RGBA size=120x120>"
      ]
     },
     "execution_count": 8,
     "metadata": {},
     "output_type": "execute_result"
    }
   ],
   "source": [
    "img = Image.open(\"C://Users//sebas//Downloads//archive (10)//images//trapinch.png\") #Open image\n",
    "img.thumbnail(size=(120,120)) #Make thumnbial\n",
    "img"
   ]
  },
  {
   "cell_type": "code",
   "execution_count": 10,
   "id": "e4b931b9",
   "metadata": {},
   "outputs": [],
   "source": [
    "model = resnet50(weights=\"IMAGENET1K_V1\") #Instanciamos el objeto\n",
    "#model.to(device)"
   ]
  },
  {
   "cell_type": "code",
   "execution_count": 12,
   "id": "392f1fb9",
   "metadata": {},
   "outputs": [
    {
     "ename": "NameError",
     "evalue": "name 'transforms' is not defined",
     "output_type": "error",
     "traceback": [
      "\u001b[31m---------------------------------------------------------------------------\u001b[39m",
      "\u001b[31mNameError\u001b[39m                                 Traceback (most recent call last)",
      "\u001b[36mCell\u001b[39m\u001b[36m \u001b[39m\u001b[32mIn[12]\u001b[39m\u001b[32m, line 1\u001b[39m\n\u001b[32m----> \u001b[39m\u001b[32m1\u001b[39m preprocessing = \u001b[43mtransforms\u001b[49m.Compose([\n\u001b[32m      2\u001b[39m     transforms.Resize(\u001b[32m256\u001b[39m),\n\u001b[32m      3\u001b[39m     transforms.CenterCrop(\u001b[32m224\u001b[39m),\n\u001b[32m      4\u001b[39m     transforms.ToTensor(),\n\u001b[32m      5\u001b[39m     transforms.Normalize(\n\u001b[32m      6\u001b[39m         mean = [\u001b[32m0.485\u001b[39m, \u001b[32m0.456\u001b[39m, \u001b[32m0.406\u001b[39m],\n\u001b[32m      7\u001b[39m         std = [\u001b[32m0.229\u001b[39m, \u001b[32m0.224\u001b[39m, \u001b[32m0.225\u001b[39m])\n\u001b[32m      8\u001b[39m ])\n",
      "\u001b[31mNameError\u001b[39m: name 'transforms' is not defined"
     ]
    }
   ],
   "source": [
    "preprocessing = transforms.Compose([\n",
    "    transforms.Resize(256),\n",
    "    transforms.CenterCrop(224),\n",
    "    transforms.ToTensor(),\n",
    "    transforms.Normalize(\n",
    "        mean = [0.485, 0.456, 0.406],\n",
    "        std = [0.229, 0.224, 0.225])\n",
    "])"
   ]
  },
  {
   "cell_type": "code",
   "execution_count": null,
   "id": "bfe33b64",
   "metadata": {},
   "outputs": [],
   "source": [
    "img_transformed = preprocessing(img).to(device)"
   ]
  },
  {
   "cell_type": "code",
   "execution_count": null,
   "id": "28b93a6c",
   "metadata": {},
   "outputs": [],
   "source": [
    "batch = torch.unsqueeze(img_transformed, 0)\n",
    "#Agregar una dimension al principio para generar un batch\n",
    "batch.shape"
   ]
  },
  {
   "cell_type": "code",
   "execution_count": null,
   "id": "5c792690",
   "metadata": {},
   "outputs": [],
   "source": [
    "model.eval() #Modelo en modo evaluación\n",
    "y_prob = model(batch) \n",
    "y_prob.shape #Me genera la siguiente predicción"
   ]
  },
  {
   "cell_type": "code",
   "execution_count": null,
   "id": "51da7a8d",
   "metadata": {},
   "outputs": [],
   "source": [
    "index = y_prob.argmax().item()\n",
    "#Cual es el valor mas grande\n",
    "imagenet_labels.iloc[index]\n",
    "#Lo buscamos en el dataframe de las etiquetas"
   ]
  },
  {
   "cell_type": "code",
   "execution_count": null,
   "id": "ccd168d2",
   "metadata": {},
   "outputs": [],
   "source": [
    "train_folder = ImageFolder(\"C://Users//sebas//Downloads//archive (10)//images/train\", transform=preprocessing) #Train\n",
    "val_folder = ImageFolder(\"C://Users//sebas//Downloads//archive (10)//images/val\", transform=preprocessing) #Val"
   ]
  },
  {
   "cell_type": "code",
   "execution_count": null,
   "id": "e3f4c428",
   "metadata": {},
   "outputs": [],
   "source": [
    "#Generadores\n",
    "train_loader = DataLoader(train_folder, batch_size=32)\n",
    "val_loader = DataLoader(val_folder, batch_size=32)\n",
    "#Generadores de imagenes con batch size = 32\n",
    "# (tamaño de cada lote)"
   ]
  },
  {
   "cell_type": "code",
   "execution_count": null,
   "id": "5f5fac74",
   "metadata": {},
   "outputs": [],
   "source": [
    "for params in model.parameters():\n",
    "    params.requires_grad = False\n",
    "    #Congelar los gradientes de mi red"
   ]
  },
  {
   "cell_type": "code",
   "execution_count": null,
   "id": "0c0df749",
   "metadata": {},
   "outputs": [],
   "source": [
    "model.fc = torch.nn.Linear(model.fc.in_features, 2)\n",
    "#Reemplazar la capa final de la red por una nueva\n",
    "model"
   ]
  },
  {
   "cell_type": "code",
   "execution_count": null,
   "id": "a7dbf28a",
   "metadata": {},
   "outputs": [],
   "source": [
    "loss_fn = CrossEntropyLoss()\n",
    "optimizer = SGD(params=model.fc.parameters(), lr=1e-4)"
   ]
  },
  {
   "cell_type": "code",
   "execution_count": null,
   "id": "5fa131d2",
   "metadata": {},
   "outputs": [],
   "source": [
    "model.to(device) #Mover el modelo a la GPU\n",
    "train_losses = []\n",
    "val_losses = []\n",
    "epochs = 10 #Seteamos un número de épocas\n",
    "for epoch in range(epochs):\n",
    "    model.train() #Modo entrenamiento\n",
    "    train_loss = 0\n",
    "    for inputs, labels in train_loader:\n",
    "        #Montar los datos en la GPU\n",
    "        inputs, labels = inputs.to(device), labels.to(device)\n",
    "        optimizer.zero_grad() #Limpiar los gradientes\n",
    "        y_prob = model(inputs) #Forward pass\n",
    "        loss = loss_fn(y_prob, labels) #Calcular la loss\n",
    "        loss.backward() #Backward pass\n",
    "        optimizer.step() #Actualizar los pesos\n",
    "        train_loss += loss.item() #Sumatoria\n",
    "    #Promediamos\n",
    "    train_loss = train_loss / len(train_loader)\n",
    "    train_losses.append(train_loss) #Guardar la loss de training\n",
    "    model.eval() #Modo evaluación\n",
    "    val_loss = 0\n",
    "    for inputs, labels in val_loader:\n",
    "        inputs, labels = inputs.to(device), labels.to(device) #Montar los datos en la GPU\n",
    "        y_prob = model(inputs) #Forward pass\n",
    "        loss = loss_fn(y_prob, labels) #Calcular la loss\n",
    "        val_loss += loss.item()\n",
    "    #Promediamos\n",
    "    val_loss = val_loss / len(val_loader)\n",
    "    val_losses.append(val_loss) #Guardar la loss de validacion\n",
    "    print(f\"Epoch {epoch}, Train Loss: {train_loss}, Val Loss: {val_loss}\")"
   ]
  },
  {
   "cell_type": "code",
   "execution_count": null,
   "id": "5a90feec",
   "metadata": {},
   "outputs": [],
   "source": [
    "import seaborn as sns\n",
    "sns.lineplot(x = range(epochs), y= train_losses, label = \"Train Loss\")\n",
    "sns.lineplot(x = range(epochs), y= val_losses, label = \"Val Loss\")"
   ]
  },
  {
   "cell_type": "code",
   "execution_count": null,
   "id": "d33abaf7",
   "metadata": {},
   "outputs": [],
   "source": [
    "batch.shape #Foto del snoopy\n",
    "model.eval() #Modo evaluación\n",
    "y_prob = model(batch) #Evaluamos el modelo con la imagen del snoopy\n",
    "y_prob"
   ]
  },
  {
   "cell_type": "code",
   "execution_count": null,
   "id": "28299b85",
   "metadata": {},
   "outputs": [],
   "source": [
    "from torch.nn import Softmax\n",
    "softmax = Softmax(dim=1) #Softmax para convertir a probabilidades\n",
    "y_prob = softmax(y_prob)\n",
    "y_prob = y_prob.cpu().detach().numpy() #Convertir a numpy\n",
    "pd.DataFrame(y_prob, columns=[\"pokemon\", ], index=[\"pokemon\"])"
   ]
  }
 ],
 "metadata": {
  "kernelspec": {
   "display_name": "Python 3",
   "language": "python",
   "name": "python3"
  },
  "language_info": {
   "codemirror_mode": {
    "name": "ipython",
    "version": 3
   },
   "file_extension": ".py",
   "mimetype": "text/x-python",
   "name": "python",
   "nbconvert_exporter": "python",
   "pygments_lexer": "ipython3",
   "version": "3.13.3"
  }
 },
 "nbformat": 4,
 "nbformat_minor": 5
}
