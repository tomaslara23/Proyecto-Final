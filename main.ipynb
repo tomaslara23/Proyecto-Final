{
 "cells": [
  {
   "cell_type": "code",
   "execution_count": null,
   "id": "64378233",
   "metadata": {},
   "outputs": [],
   "source": [
    "print(\"hola\")"
   ]
  },
  {
   "cell_type": "code",
   "execution_count": null,
   "id": "faadb998",
   "metadata": {},
   "outputs": [],
   "source": [
    "print(\"aaa\")\n"
   ]
  }
 ],
 "metadata": {
  "kernelspec": {
   "display_name": "ML",
   "language": "python",
   "name": "python3"
  },
  "language_info": {
   "name": "python",
   "version": "3.10.16"
  }
 },
 "nbformat": 4,
 "nbformat_minor": 5
}
